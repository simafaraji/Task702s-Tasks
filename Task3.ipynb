{
  "nbformat": 4,
  "nbformat_minor": 0,
  "metadata": {
    "colab": {
      "name": "MNIST_by_Pytorch",
      "provenance": []
    },
    "kernelspec": {
      "name": "python3",
      "display_name": "Python 3"
    }
  },
  "cells": [
    {
      "cell_type": "markdown",
      "metadata": {
        "id": "Io2wULMy_qOq"
      },
      "source": [
        "## Importing the Libraries"
      ]
    },
    {
      "cell_type": "code",
      "metadata": {
        "id": "GnQUFmol_Ve-"
      },
      "source": [
        "import numpy as np\n",
        "import torch\n",
        "import torchvision\n",
        "import matplotlib.pyplot as plt\n",
        "from random import randint\n",
        "from time import time\n",
        "from torchvision import datasets, transforms\n",
        "from torch import nn, optim"
      ],
      "execution_count": 2,
      "outputs": []
    },
    {
      "cell_type": "markdown",
      "metadata": {
        "id": "R2lZQdymR_I8"
      },
      "source": [
        "# Build the ANN class"
      ]
    },
    {
      "cell_type": "code",
      "metadata": {
        "id": "_lQn9B4iKLBt"
      },
      "source": [
        "class PyTorch_MNIST:\n",
        "  \n",
        "  def __init__(self, hidden_layers = [28, 64], hidden_layers_types = ['relu', 'sigmoid'], optimizer_name = 'SGD', learning_rate = 0.05, momentum = 0.5, epochs = 10):\n",
        " \n",
        "    #Declare the variables \n",
        "    self.inputSize = 784\n",
        "    self.outputSize = 10\n",
        " \n",
        "    self.hidden_layers = hidden_layers\n",
        "    self.hidden_layers_types = hidden_layers_types\n",
        " \n",
        "    self.optimizer = optimizer_name\n",
        "    self.learning_rate = learning_rate\n",
        "    self.epochs = epochs\n",
        "    self.momentum = momentum\n",
        " \n",
        "    self.correct_predicts = 0\n",
        "    self.incorrect_predicts = 0\n",
        "    \n",
        "    #Perform the needed transforms\n",
        "    self.transform = transforms.Compose([transforms.ToTensor(), transforms.Normalize((0.5,), (0.5,))])\n",
        "    # Download the dataset\n",
        "    self.trainset = datasets.MNIST('sample_data/', train = True, transform = self.transform, download = True)\n",
        "    self.testset = datasets.MNIST('sample_data/', train = False, transform = self.transform, download = True)\n",
        " \n",
        "    self.trainsetLoader = torch.utils.data.DataLoader(self.trainset, batch_size = 64, shuffle = True)\n",
        "    self.testsetLoader = torch.utils.data.DataLoader(self.testset, batch_size = 10000, shuffle = False)\n",
        " \n",
        "    #Set the configuration of the model\n",
        "    self.model_configuration = []\n",
        "    self.model_configuration.append(nn.Linear(self.inputSize, self.hidden_layers[0]))\n",
        "    self.model_configuration.append(nn.ReLU()) if self.hidden_layers_types[0] == 'relu' else self.model_configuration.append(nn.Sigmoid())\n",
        "    for i in range(1, len(self.hidden_layers)):\n",
        "      self.model_configuration.append(nn.Linear(self.hidden_layers[i - 1], self.hidden_layers[i]))\n",
        "      self.model_configuration.append(nn.ReLU()) if self.hidden_layers_types[i] == 'relu' else self.model_configuration.append(nn.Sigmoid())\n",
        "    self.model_configuration.append(nn.Linear(self.hidden_layers[-1], self.outputSize))\n",
        "    self.model_configuration.append(nn.LogSoftmax(dim = 1))\n",
        "    self.model = nn.Sequential(*self.model_configuration)\n",
        " \n",
        "    #create the Loss class\n",
        "    self.creterion = nn.NLLLoss()\n",
        "    \n",
        "    #Train the model\n",
        "    self.train()\n",
        " \n",
        "    #Create a random int number for testing \n",
        "    self.random_index = randint(0, 9999)\n",
        " \n",
        "    #Test the model\n",
        "    self.test(self.random_index)\n",
        " \n",
        "    #Show the random test image\n",
        "    self.show_the_test_image(self.random_index)\n",
        " \n",
        "    #Calculate the accuracy \n",
        "    self.calculate_accuracy()\n",
        " \n",
        "  def train(self):\n",
        "    if self.optimizer == 'SGD':\n",
        "      self.optim = optim.SGD(self.model.parameters(), self.learning_rate, self.momentum) \n",
        "    else:\n",
        "      self.optim = optim.Adam(self.model.parameters(), self.learning_rate, self.momentum)\n",
        " \n",
        "    self.time = time()\n",
        "    for i in range(self.epochs):\n",
        "      self.running_loss = 0\n",
        "      for images, labels in self.trainsetLoader:\n",
        "        images = images.view(images.shape[0], -1)\n",
        "        self.optim.zero_grad()\n",
        "        self.output = self.model(images)\n",
        "        self.loss = self.creterion(self.output, labels)\n",
        "        self.loss.backward()\n",
        "        self.optim.step()\n",
        "        self.running_loss += self.loss.item()\n",
        " \n",
        "      print(\"Epoch {} - Training loss: {}\".format(i, self.running_loss/len(self.trainsetLoader)))\n",
        "    \n",
        "    print(\"\\nTraining Time (in minutes) =\",(time() - self.time)/60)\n",
        " \n",
        "  def show_the_test_image(self, random_index):\n",
        "    images, labels = next(iter(self.testsetLoader))\n",
        "    image = images[random_index].view(28, 28)\n",
        "    print('\\n') \n",
        "    plt.imshow(image)\n",
        "    plt.show()\n",
        " \n",
        "  def test(self, random_image_number):\n",
        "    images, labels = next(iter(self.testsetLoader))\n",
        "    random_image = images[random_image_number].view(1, 784)\n",
        "    actual_label = labels.numpy()[random_image_number]\n",
        "      \n",
        "    with torch.no_grad():\n",
        "      output = self.model(random_image)\n",
        " \n",
        "    ps = torch.exp(output)\n",
        "    probab = list(ps.numpy()[0])\n",
        "    print(\"\\nPredicted Digit =\", probab.index(max(probab)))\n",
        "    print('Actual Label', actual_label)\n",
        " \n",
        " \n",
        "  def calculate_accuracy(self):\n",
        "    self.testsetLoader = torch.utils.data.DataLoader(self.testset, batch_size = 1, shuffle = True)\n",
        "    for images, labels in self.testsetLoader:\n",
        "      for i in range(len(labels)):\n",
        "        images, labels = next(iter(self.testsetLoader))\n",
        "        image = images[i].view(1, 784)\n",
        "        with torch.no_grad():\n",
        "          output = self.model(image)\n",
        "      \n",
        "      ps = torch.exp(output)\n",
        "      probab = list(ps.numpy()[0])\n",
        "      predicted_label = probab.index(max(probab))\n",
        "      actual_label = labels.numpy()[i]\n",
        "      if predicted_label == actual_label:\n",
        "        self.correct_predicts += 1\n",
        "      else: \n",
        "        self.incorrect_predicts += 1\n",
        "      \n",
        "    print('\\nTest size: ', len(self.testsetLoader))\n",
        "    print('The number of correct predictios: ', self.correct_predicts)\n",
        "    print('The number of incorrect predictios: ', self.incorrect_predicts)\n",
        "    print('The accuracy of the model: %{:.2f}'.format((self.correct_predicts / len(self.testsetLoader)) * 100))"
      ],
      "execution_count": 23,
      "outputs": []
    },
    {
      "cell_type": "code",
      "metadata": {
        "id": "W2pmZOFZWo8l",
        "colab": {
          "base_uri": "https://localhost:8080/",
          "height": 639
        },
        "outputId": "78e3971a-5a5a-4361-be1b-07d7fa62bc45"
      },
      "source": [
        "cl = PyTorch_MNIST(hidden_layers = [700, 200, 128, 64], hidden_layers_types = ['sigmoid', 'relu', 'sigmoid', 'relu'],\n",
        "                   momentum = 0.05, learning_rate=0.03)"
      ],
      "execution_count": 24,
      "outputs": [
        {
          "output_type": "stream",
          "text": [
            "Epoch 0 - Training loss: 2.3005972086493647\n",
            "Epoch 1 - Training loss: 2.294564301271174\n",
            "Epoch 2 - Training loss: 1.906581366621355\n",
            "Epoch 3 - Training loss: 1.053109817731101\n",
            "Epoch 4 - Training loss: 0.7540379752800155\n",
            "Epoch 5 - Training loss: 0.63162827993761\n",
            "Epoch 6 - Training loss: 0.5152239643498016\n",
            "Epoch 7 - Training loss: 0.42782585235483356\n",
            "Epoch 8 - Training loss: 0.36930861256555964\n",
            "Epoch 9 - Training loss: 0.3230726849327464\n",
            "\n",
            "Training Time (in minutes) = 3.022190280755361\n",
            "\n",
            "Predicted Digit = 1\n",
            "Actual Label 1\n",
            "\n",
            "\n"
          ],
          "name": "stdout"
        },
        {
          "output_type": "display_data",
          "data": {
            "image/png": "[encoded data removed]",
            "text/plain": [
              "<Figure size 432x288 with 1 Axes>"
            ]
          },
          "metadata": {
            "tags": [],
            "needs_background": "light"
          }
        },
        {
          "output_type": "stream",
          "text": [
            "\n",
            "Test size:  10000\n",
            "The number of correct predictios:  9121\n",
            "The number of incorrect predictios:  879\n",
            "The accuracy of the model: %91.21\n"
          ],
          "name": "stdout"
        }
      ]
    }
  ]
}