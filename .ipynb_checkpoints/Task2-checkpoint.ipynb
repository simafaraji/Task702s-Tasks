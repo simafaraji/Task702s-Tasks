{
 "cells": [
  {
   "cell_type": "markdown",
   "metadata": {
    "id": "giaJix_KO6NA"
   },
   "source": [
    "# MNIST handwritten digits classifier by ANN"
   ]
  },
  {
   "cell_type": "markdown",
   "metadata": {
    "id": "pVCI1Wm0-yyY"
   },
   "source": [
    "**Importing libraries**"
   ]
  },
  {
   "cell_type": "code",
   "execution_count": 1,
   "metadata": {
    "colab": {
     "base_uri": "https://localhost:8080/"
    },
    "id": "Y1dwYHCfTw_z",
    "outputId": "087b6bc3-a786-4ef0-d0e3-14010feb41fa"
   },
   "outputs": [
    {
     "name": "stdout",
     "output_type": "stream",
     "text": [
      "Collecting mnist\n",
      "  Downloading https://files.pythonhosted.org/packages/c6/c4/5db3bfe009f8d71f1d532bbadbd0ec203764bba3a469e4703a889db8e5e0/mnist-0.2.2-py2.py3-none-any.whl\n",
      "Requirement already satisfied: numpy in /usr/local/lib/python3.6/dist-packages (from mnist) (1.18.5)\n",
      "Installing collected packages: mnist\n",
      "Successfully installed mnist-0.2.2\n"
     ]
    }
   ],
   "source": [
    "pip install mnist"
   ]
  },
  {
   "cell_type": "code",
   "execution_count": 71,
   "metadata": {
    "id": "b8biw-rzPj0L"
   },
   "outputs": [],
   "source": [
    "import numpy as np\n",
    "import matplotlib.pyplot as plt\n",
    "import mnist \n",
    "import torch\n",
    "import torchvision\n",
    "import torchvision.datasets as ds\n",
    "mnist_ds = mnist."
   ]
  },
  {
   "cell_type": "markdown",
   "metadata": {
    "id": "f7K_1RYMUPPo"
   },
   "source": [
    "**Creating the ANN class**"
   ]
  },
  {
   "cell_type": "code",
   "execution_count": 66,
   "metadata": {
    "id": "YyXi5uYaUJLR"
   },
   "outputs": [],
   "source": [
    "class Handwritten_digits_classifier:\n",
    "\n",
    "  def __init__(self, hidden_layer_numbers):\n",
    "    self.train_set = {\n",
    "     'train_images': mnist.train_images(), \n",
    "     'train_labels': mnist.test_labels()\n",
    "    }\n",
    "    self.test_set = { \n",
    "     'test_images': mnist.test_images(),\n",
    "     'test_labels':mnist.test_labels()\n",
    "    }\n",
    "\n",
    "    self.inputNodes = 784 # 28 * 28 = 784 \n",
    "    self.outputNodes = 10 # we have 10 digits\n",
    "\n",
    "    self.hidden_layer_numbers = hidden_layer_numbers\n",
    "\n",
    "\n",
    "    example = self.train_set['train_images'][0]\n",
    "    example = example.split(',')\n",
    "    print(example)\n",
    "\n",
    "\n",
    "    #Flatten images \n",
    "    self.train_set['train_images'] = (self.train_set['train_images']/255) - 0.5\n",
    "    self.test_set['test_images'] = (self.test_set['test_images']/255) - 0.5\n",
    "    \n",
    "    #Reshape the image arrays to make suitable for feeding to the model \n",
    "    self.train_set['train_images'] = self.train_set['train_images'].reshape(-1, 784)\n",
    "    self.test_set['test_images'] = self.test_set['test_images'].reshape(-1, 784)\n",
    "    \n",
    "    #Take the number of hidden layers's nodes and funbctions\n",
    "    self.hidden_layers_nodes = []\n",
    "    self.hidden_layers_types = []\n",
    "    for i in range(self.hidden_layer_numbers):\n",
    "      self.hidden_layers_nodes.append(input('Please, enter the number of nodes in hidden layer' + str(i + 1) + ':'))\n",
    "      self.hidden_layers_types.append(input('Please, specify its activatition:'))\n",
    "    \n",
    "    #Convert the entered number of hidden layers' nodes to int from string\n",
    "    for i in range(0, self.hidden_layer_numbers):\n",
    "      self.hidden_layers_nodes[i] = int(self.hidden_layers_nodes[i])\n",
    "    \n",
    "    #Initialize the first and last weights\n",
    "    self.IHweights = (np.random.rand(self.hidden_layers_nodes[0], self.inputNodes) - 0.5)\n",
    "    self.HOweights = (np.random.rand(self.outputNodes, self.hidden_layers_nodes[self.hidden_layer_numbers - 1]) - 0.5)\n",
    "\n",
    "    #Initialize the hidden layers weights\n",
    "    self.inner_weigghts = []\n",
    "    for i in range(0, self.hidden_layer_numbers):\n",
    "      if i == 0:\n",
    "        self.inner_weigghts.append((np.random.rand(self.hidden_layers_nodes[i], self.inputNodes) - 0.5))\n",
    "      else:\n",
    "        self.inner_weigghts.append((np.random.rand(self.hidden_layers_nodes[i], self.hidden_layers_nodes[i - 1]) - 0.5))\n",
    "\n",
    "    #Declare the input and output of hidden layers variables \n",
    "    self.hidden_layers_inputs = []\n",
    "    self.hidden_layers_outputs = {}\n",
    "\n",
    "    #Select the activation function for the input layer\n",
    "    if self.hidden_layers_types[0] == 'sigmoid':\n",
    "      self.hidden_layers.outputs['InputLayerOutput'] = self.sigmoid(np.dot(self.IHweights, self.train_set['train_images'][0]))\n",
    "    else:\n",
    "      self.hidden_layers_outputs['InputLayerOutput'] = self.relu(np.dot(self.IHweights, self.train_set['train_images'][0]))\n",
    "    print(self.hidden_layers_outputs)\n",
    "\n",
    "    #Forward pass for the hidden layers \n",
    "    #self.forwardPass()\n",
    "\n",
    "    #Final output by softmax function \n",
    "    #self.finaloutput = self.softmax(np.dot(self.inner_weigghts[self.hidden_layer_numbers - 1], self.hidden_layers_outputs['Hiddenlayer' + str(self.hidden_layer_numbers - 1) + ' Output']))\n",
    "\n",
    "    self.staticforpass()\n",
    "    self.finaloutput = self.softmax(np.dot(self.inner_weigghts[self.hidden_layer_numbers - 1], self.hidden_layers_outputs['h2']))\n",
    "\n",
    "\n",
    "  def staticforpass(self):\n",
    "    self.hidden_layers_outputs['h1']= self.relu(np.dot(self.inner_weigghts[0],self.hidden_layers_outputs['InputLayerOutput']))\n",
    "    self.hidden_layers_outputs['h2']= self.relu(np.dot(self.inner_weigghts[1],self.hidden_layers_outputs['h1']))\n",
    "\n",
    "  def forwardPass(self):\n",
    "    for i in range(1, self.hidden_layer_numbers):\n",
    "      if i == 0: \n",
    "        if self.hidden_layers_types[i + 1] == 'sigmoid':\n",
    "          self.hidden_layers_outputs['HiddenLayer' + str(i + 1) + ' Output'] = self.sigmoid(np.dot(self.inner_weigghts[i], self.hidden_layers_outputs['InputLayerOutput']))\n",
    "        else:\n",
    "          self.hidden_layers_outputs['HiddenLayer' + str(i + 1) + ' Output'] = self.relu(np.dot(self.inner_weigghts[i], self.hidden_layers_outputs['InputLayerOutput']))\n",
    "      else:\n",
    "        if self.hidden_layers_types[i + 1] == 'sigmoid':\n",
    "          self.hidden_layers_outputs['HiddenLayer' + str(i + 1) + ' Output'] = self.sigmoid(np.dot(self.inner_weigghts[i], self.hidden_layers_outputs['HiddenLayer' + str(i -1) + ' Output']))\n",
    "        else:\n",
    "          self.hidden_layers_outputs['HiddenLayer' + str(i + 1) + ' Output'] = self.relu(np.dot(self.inner_weigghts[i], self.hidden_layers_outputs['HiddenLayer' + str(i - 1) + ' Output']))\n",
    "    \n",
    "    print(self.hidden_layers_outputs)\n",
    "\n",
    "  def sigmoid(self, z, derivative = False):\n",
    "    if derivative:\n",
    "      return (np.exp(-z)) / ((np.exp(-z) + 1) ** 2)\n",
    "    return 1.0 / (1.0 + np.exp(-z))\n",
    "\n",
    "  def relu(self, z, derivative = False):\n",
    "    if derivative:\n",
    "      if z == 0 or z < 0:\n",
    "        z = 0 \n",
    "      else:\n",
    "        z = 1\n",
    "        return z\n",
    "    return np.maximum(0, z)\n",
    "  \n",
    "  def softmax(sef, z):\n",
    "    exp = (np.exp(z - z.max()))\n",
    "    return exp / np.sum(exp, axis=0)\n",
    "\n",
    "  def show_test_images(self):\n",
    "    for i in range(0, 10):\n",
    "      image = self.test_set['test_images'][i]\n",
    "      image = np.array(image, dtype='float')\n",
    "      pixels = image.reshape((28, 28))\n",
    "      plt.imshow(pixels)\n",
    "      plt.show()\n",
    "\n",
    "  def ANN_Classifier(self):\n",
    "    pass\n"
   ]
  },
  {
   "cell_type": "code",
   "execution_count": 67,
   "metadata": {
    "colab": {
     "base_uri": "https://localhost:8080/",
     "height": 282
    },
    "id": "5DLpVdFuyO23",
    "outputId": "3726f0fc-c123-47c7-fa1b-57bab02311ef"
   },
   "outputs": [
    {
     "ename": "AttributeError",
     "evalue": "ignored",
     "output_type": "error",
     "traceback": [
      "\u001b[0;31m---------------------------------------------------------------------------\u001b[0m",
      "\u001b[0;31mAttributeError\u001b[0m                            Traceback (most recent call last)",
      "\u001b[0;32m<ipython-input-67-37f78a6526ed>\u001b[0m in \u001b[0;36m<module>\u001b[0;34m()\u001b[0m\n\u001b[0;32m----> 1\u001b[0;31m \u001b[0mclassifier\u001b[0m \u001b[0;34m=\u001b[0m \u001b[0mHandwritten_digits_classifier\u001b[0m\u001b[0;34m(\u001b[0m\u001b[0;36m2\u001b[0m\u001b[0;34m)\u001b[0m\u001b[0;34m\u001b[0m\u001b[0;34m\u001b[0m\u001b[0m\n\u001b[0m",
      "\u001b[0;32m<ipython-input-66-a1c83ab1d6c1>\u001b[0m in \u001b[0;36m__init__\u001b[0;34m(self, hidden_layer_numbers)\u001b[0m\n\u001b[1;32m     18\u001b[0m \u001b[0;34m\u001b[0m\u001b[0m\n\u001b[1;32m     19\u001b[0m     \u001b[0mexample\u001b[0m \u001b[0;34m=\u001b[0m \u001b[0mself\u001b[0m\u001b[0;34m.\u001b[0m\u001b[0mtrain_set\u001b[0m\u001b[0;34m[\u001b[0m\u001b[0;34m'train_images'\u001b[0m\u001b[0;34m]\u001b[0m\u001b[0;34m[\u001b[0m\u001b[0;36m0\u001b[0m\u001b[0;34m]\u001b[0m\u001b[0;34m\u001b[0m\u001b[0;34m\u001b[0m\u001b[0m\n\u001b[0;32m---> 20\u001b[0;31m     \u001b[0mexample\u001b[0m \u001b[0;34m=\u001b[0m \u001b[0mexample\u001b[0m\u001b[0;34m.\u001b[0m\u001b[0msplit\u001b[0m\u001b[0;34m(\u001b[0m\u001b[0;34m','\u001b[0m\u001b[0;34m)\u001b[0m\u001b[0;34m\u001b[0m\u001b[0;34m\u001b[0m\u001b[0m\n\u001b[0m\u001b[1;32m     21\u001b[0m     \u001b[0mprint\u001b[0m\u001b[0;34m(\u001b[0m\u001b[0mexample\u001b[0m\u001b[0;34m)\u001b[0m\u001b[0;34m\u001b[0m\u001b[0;34m\u001b[0m\u001b[0m\n\u001b[1;32m     22\u001b[0m \u001b[0;34m\u001b[0m\u001b[0m\n",
      "\u001b[0;31mAttributeError\u001b[0m: 'numpy.ndarray' object has no attribute 'split'"
     ]
    }
   ],
   "source": [
    "classifier = Handwritten_digits_classifier(2)"
   ]
  },
  {
   "cell_type": "code",
   "execution_count": 53,
   "metadata": {
    "id": "rGMkWYX8uTAf"
   },
   "outputs": [],
   "source": []
  }
 ],
 "metadata": {
  "colab": {
   "collapsed_sections": [],
   "name": "MNIST.ipynb",
   "provenance": []
  },
  "kernelspec": {
   "display_name": "Python 3",
   "language": "python",
   "name": "python3"
  },
  "language_info": {
   "codemirror_mode": {
    "name": "ipython",
    "version": 3
   },
   "file_extension": ".py",
   "mimetype": "text/x-python",
   "name": "python",
   "nbconvert_exporter": "python",
   "pygments_lexer": "ipython3",
   "version": "3.8.3"
  }
 },
 "nbformat": 4,
 "nbformat_minor": 1
}
