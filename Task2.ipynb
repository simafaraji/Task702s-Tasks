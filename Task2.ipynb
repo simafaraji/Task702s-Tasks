{
  "nbformat": 4,
  "nbformat_minor": 0,
  "metadata": {
    "colab": {
      "name": "MNIST.ipynb",
      "provenance": [],
      "collapsed_sections": []
    },
    "kernelspec": {
      "name": "python3",
      "display_name": "Python 3"
    },
    "widgets": {
      "application/vnd.jupyter.widget-state+json": {
        "fb630abd6e744e87ba7457943b761c8a": {
          "model_module": "@jupyter-widgets/controls",
          "model_name": "HBoxModel",
          "state": {
            "_view_name": "HBoxView",
            "_dom_classes": [],
            "_model_name": "HBoxModel",
            "_view_module": "@jupyter-widgets/controls",
            "_model_module_version": "1.5.0",
            "_view_count": null,
            "_view_module_version": "1.5.0",
            "box_style": "",
            "layout": "IPY_MODEL_e576e5111baa4fb3813d8c8c4a631c6c",
            "_model_module": "@jupyter-widgets/controls",
            "children": [
              "IPY_MODEL_2af7647dcb7b4043a709d468ec83313d",
              "IPY_MODEL_f96cebed30124163bfc5ca0a5feff37f"
            ]
          }
        },
        "e576e5111baa4fb3813d8c8c4a631c6c": {
          "model_module": "@jupyter-widgets/base",
          "model_name": "LayoutModel",
          "state": {
            "_view_name": "LayoutView",
            "grid_template_rows": null,
            "right": null,
            "justify_content": null,
            "_view_module": "@jupyter-widgets/base",
            "overflow": null,
            "_model_module_version": "1.2.0",
            "_view_count": null,
            "flex_flow": null,
            "width": null,
            "min_width": null,
            "border": null,
            "align_items": null,
            "bottom": null,
            "_model_module": "@jupyter-widgets/base",
            "top": null,
            "grid_column": null,
            "overflow_y": null,
            "overflow_x": null,
            "grid_auto_flow": null,
            "grid_area": null,
            "grid_template_columns": null,
            "flex": null,
            "_model_name": "LayoutModel",
            "justify_items": null,
            "grid_row": null,
            "max_height": null,
            "align_content": null,
            "visibility": null,
            "align_self": null,
            "height": null,
            "min_height": null,
            "padding": null,
            "grid_auto_rows": null,
            "grid_gap": null,
            "max_width": null,
            "order": null,
            "_view_module_version": "1.2.0",
            "grid_template_areas": null,
            "object_position": null,
            "object_fit": null,
            "grid_auto_columns": null,
            "margin": null,
            "display": null,
            "left": null
          }
        },
        "2af7647dcb7b4043a709d468ec83313d": {
          "model_module": "@jupyter-widgets/controls",
          "model_name": "FloatProgressModel",
          "state": {
            "_view_name": "ProgressView",
            "style": "IPY_MODEL_2138e55841b842738b0d12af314275c9",
            "_dom_classes": [],
            "description": "",
            "_model_name": "FloatProgressModel",
            "bar_style": "info",
            "max": 1,
            "_view_module": "@jupyter-widgets/controls",
            "_model_module_version": "1.5.0",
            "value": 1,
            "_view_count": null,
            "_view_module_version": "1.5.0",
            "orientation": "horizontal",
            "min": 0,
            "description_tooltip": null,
            "_model_module": "@jupyter-widgets/controls",
            "layout": "IPY_MODEL_0e4df468a32f4465b6cefcc751ffe386"
          }
        },
        "f96cebed30124163bfc5ca0a5feff37f": {
          "model_module": "@jupyter-widgets/controls",
          "model_name": "HTMLModel",
          "state": {
            "_view_name": "HTMLView",
            "style": "IPY_MODEL_118f799c997c4c8ba73deecc8588048b",
            "_dom_classes": [],
            "description": "",
            "_model_name": "HTMLModel",
            "placeholder": "​",
            "_view_module": "@jupyter-widgets/controls",
            "_model_module_version": "1.5.0",
            "value": " 9920512/? [00:20&lt;00:00, 807418.63it/s]",
            "_view_count": null,
            "_view_module_version": "1.5.0",
            "description_tooltip": null,
            "_model_module": "@jupyter-widgets/controls",
            "layout": "IPY_MODEL_09c26a00fbcd46208ad857f8fd83344c"
          }
        },
        "2138e55841b842738b0d12af314275c9": {
          "model_module": "@jupyter-widgets/controls",
          "model_name": "ProgressStyleModel",
          "state": {
            "_view_name": "StyleView",
            "_model_name": "ProgressStyleModel",
            "description_width": "initial",
            "_view_module": "@jupyter-widgets/base",
            "_model_module_version": "1.5.0",
            "_view_count": null,
            "_view_module_version": "1.2.0",
            "bar_color": null,
            "_model_module": "@jupyter-widgets/controls"
          }
        },
        "0e4df468a32f4465b6cefcc751ffe386": {
          "model_module": "@jupyter-widgets/base",
          "model_name": "LayoutModel",
          "state": {
            "_view_name": "LayoutView",
            "grid_template_rows": null,
            "right": null,
            "justify_content": null,
            "_view_module": "@jupyter-widgets/base",
            "overflow": null,
            "_model_module_version": "1.2.0",
            "_view_count": null,
            "flex_flow": null,
            "width": null,
            "min_width": null,
            "border": null,
            "align_items": null,
            "bottom": null,
            "_model_module": "@jupyter-widgets/base",
            "top": null,
            "grid_column": null,
            "overflow_y": null,
            "overflow_x": null,
            "grid_auto_flow": null,
            "grid_area": null,
            "grid_template_columns": null,
            "flex": null,
            "_model_name": "LayoutModel",
            "justify_items": null,
            "grid_row": null,
            "max_height": null,
            "align_content": null,
            "visibility": null,
            "align_self": null,
            "height": null,
            "min_height": null,
            "padding": null,
            "grid_auto_rows": null,
            "grid_gap": null,
            "max_width": null,
            "order": null,
            "_view_module_version": "1.2.0",
            "grid_template_areas": null,
            "object_position": null,
            "object_fit": null,
            "grid_auto_columns": null,
            "margin": null,
            "display": null,
            "left": null
          }
        },
        "118f799c997c4c8ba73deecc8588048b": {
          "model_module": "@jupyter-widgets/controls",
          "model_name": "DescriptionStyleModel",
          "state": {
            "_view_name": "StyleView",
            "_model_name": "DescriptionStyleModel",
            "description_width": "",
            "_view_module": "@jupyter-widgets/base",
            "_model_module_version": "1.5.0",
            "_view_count": null,
            "_view_module_version": "1.2.0",
            "_model_module": "@jupyter-widgets/controls"
          }
        },
        "09c26a00fbcd46208ad857f8fd83344c": {
          "model_module": "@jupyter-widgets/base",
          "model_name": "LayoutModel",
          "state": {
            "_view_name": "LayoutView",
            "grid_template_rows": null,
            "right": null,
            "justify_content": null,
            "_view_module": "@jupyter-widgets/base",
            "overflow": null,
            "_model_module_version": "1.2.0",
            "_view_count": null,
            "flex_flow": null,
            "width": null,
            "min_width": null,
            "border": null,
            "align_items": null,
            "bottom": null,
            "_model_module": "@jupyter-widgets/base",
            "top": null,
            "grid_column": null,
            "overflow_y": null,
            "overflow_x": null,
            "grid_auto_flow": null,
            "grid_area": null,
            "grid_template_columns": null,
            "flex": null,
            "_model_name": "LayoutModel",
            "justify_items": null,
            "grid_row": null,
            "max_height": null,
            "align_content": null,
            "visibility": null,
            "align_self": null,
            "height": null,
            "min_height": null,
            "padding": null,
            "grid_auto_rows": null,
            "grid_gap": null,
            "max_width": null,
            "order": null,
            "_view_module_version": "1.2.0",
            "grid_template_areas": null,
            "object_position": null,
            "object_fit": null,
            "grid_auto_columns": null,
            "margin": null,
            "display": null,
            "left": null
          }
        },
        "3e10eeec22cd433c84294ccf1a44eec1": {
          "model_module": "@jupyter-widgets/controls",
          "model_name": "HBoxModel",
          "state": {
            "_view_name": "HBoxView",
            "_dom_classes": [],
            "_model_name": "HBoxModel",
            "_view_module": "@jupyter-widgets/controls",
            "_model_module_version": "1.5.0",
            "_view_count": null,
            "_view_module_version": "1.5.0",
            "box_style": "",
            "layout": "IPY_MODEL_7c2af646c06749e48a66325fcc49d235",
            "_model_module": "@jupyter-widgets/controls",
            "children": [
              "IPY_MODEL_cd6a6cdf83d147ea9b135423f1496a8a",
              "IPY_MODEL_431f1d19b97a44a1938ea1703ffc1178"
            ]
          }
        },
        "7c2af646c06749e48a66325fcc49d235": {
          "model_module": "@jupyter-widgets/base",
          "model_name": "LayoutModel",
          "state": {
            "_view_name": "LayoutView",
            "grid_template_rows": null,
            "right": null,
            "justify_content": null,
            "_view_module": "@jupyter-widgets/base",
            "overflow": null,
            "_model_module_version": "1.2.0",
            "_view_count": null,
            "flex_flow": null,
            "width": null,
            "min_width": null,
            "border": null,
            "align_items": null,
            "bottom": null,
            "_model_module": "@jupyter-widgets/base",
            "top": null,
            "grid_column": null,
            "overflow_y": null,
            "overflow_x": null,
            "grid_auto_flow": null,
            "grid_area": null,
            "grid_template_columns": null,
            "flex": null,
            "_model_name": "LayoutModel",
            "justify_items": null,
            "grid_row": null,
            "max_height": null,
            "align_content": null,
            "visibility": null,
            "align_self": null,
            "height": null,
            "min_height": null,
            "padding": null,
            "grid_auto_rows": null,
            "grid_gap": null,
            "max_width": null,
            "order": null,
            "_view_module_version": "1.2.0",
            "grid_template_areas": null,
            "object_position": null,
            "object_fit": null,
            "grid_auto_columns": null,
            "margin": null,
            "display": null,
            "left": null
          }
        },
        "cd6a6cdf83d147ea9b135423f1496a8a": {
          "model_module": "@jupyter-widgets/controls",
          "model_name": "FloatProgressModel",
          "state": {
            "_view_name": "ProgressView",
            "style": "IPY_MODEL_19f31adcb2c447acb22e54719965a46f",
            "_dom_classes": [],
            "description": "",
            "_model_name": "FloatProgressModel",
            "bar_style": "success",
            "max": 1,
            "_view_module": "@jupyter-widgets/controls",
            "_model_module_version": "1.5.0",
            "value": 1,
            "_view_count": null,
            "_view_module_version": "1.5.0",
            "orientation": "horizontal",
            "min": 0,
            "description_tooltip": null,
            "_model_module": "@jupyter-widgets/controls",
            "layout": "IPY_MODEL_f8fb14916bf348eaa947aeeadb1fbb91"
          }
        },
        "431f1d19b97a44a1938ea1703ffc1178": {
          "model_module": "@jupyter-widgets/controls",
          "model_name": "HTMLModel",
          "state": {
            "_view_name": "HTMLView",
            "style": "IPY_MODEL_5d32252de15341f983a01a9e345ddad6",
            "_dom_classes": [],
            "description": "",
            "_model_name": "HTMLModel",
            "placeholder": "​",
            "_view_module": "@jupyter-widgets/controls",
            "_model_module_version": "1.5.0",
            "value": " 32768/? [00:00&lt;00:00, 115147.06it/s]",
            "_view_count": null,
            "_view_module_version": "1.5.0",
            "description_tooltip": null,
            "_model_module": "@jupyter-widgets/controls",
            "layout": "IPY_MODEL_26f5a06e2b0549d081c5fdf271e33056"
          }
        },
        "19f31adcb2c447acb22e54719965a46f": {
          "model_module": "@jupyter-widgets/controls",
          "model_name": "ProgressStyleModel",
          "state": {
            "_view_name": "StyleView",
            "_model_name": "ProgressStyleModel",
            "description_width": "initial",
            "_view_module": "@jupyter-widgets/base",
            "_model_module_version": "1.5.0",
            "_view_count": null,
            "_view_module_version": "1.2.0",
            "bar_color": null,
            "_model_module": "@jupyter-widgets/controls"
          }
        },
        "f8fb14916bf348eaa947aeeadb1fbb91": {
          "model_module": "@jupyter-widgets/base",
          "model_name": "LayoutModel",
          "state": {
            "_view_name": "LayoutView",
            "grid_template_rows": null,
            "right": null,
            "justify_content": null,
            "_view_module": "@jupyter-widgets/base",
            "overflow": null,
            "_model_module_version": "1.2.0",
            "_view_count": null,
            "flex_flow": null,
            "width": null,
            "min_width": null,
            "border": null,
            "align_items": null,
            "bottom": null,
            "_model_module": "@jupyter-widgets/base",
            "top": null,
            "grid_column": null,
            "overflow_y": null,
            "overflow_x": null,
            "grid_auto_flow": null,
            "grid_area": null,
            "grid_template_columns": null,
            "flex": null,
            "_model_name": "LayoutModel",
            "justify_items": null,
            "grid_row": null,
            "max_height": null,
            "align_content": null,
            "visibility": null,
            "align_self": null,
            "height": null,
            "min_height": null,
            "padding": null,
            "grid_auto_rows": null,
            "grid_gap": null,
            "max_width": null,
            "order": null,
            "_view_module_version": "1.2.0",
            "grid_template_areas": null,
            "object_position": null,
            "object_fit": null,
            "grid_auto_columns": null,
            "margin": null,
            "display": null,
            "left": null
          }
        },
        "5d32252de15341f983a01a9e345ddad6": {
          "model_module": "@jupyter-widgets/controls",
          "model_name": "DescriptionStyleModel",
          "state": {
            "_view_name": "StyleView",
            "_model_name": "DescriptionStyleModel",
            "description_width": "",
            "_view_module": "@jupyter-widgets/base",
            "_model_module_version": "1.5.0",
            "_view_count": null,
            "_view_module_version": "1.2.0",
            "_model_module": "@jupyter-widgets/controls"
          }
        },
        "26f5a06e2b0549d081c5fdf271e33056": {
          "model_module": "@jupyter-widgets/base",
          "model_name": "LayoutModel",
          "state": {
            "_view_name": "LayoutView",
            "grid_template_rows": null,
            "right": null,
            "justify_content": null,
            "_view_module": "@jupyter-widgets/base",
            "overflow": null,
            "_model_module_version": "1.2.0",
            "_view_count": null,
            "flex_flow": null,
            "width": null,
            "min_width": null,
            "border": null,
            "align_items": null,
            "bottom": null,
            "_model_module": "@jupyter-widgets/base",
            "top": null,
            "grid_column": null,
            "overflow_y": null,
            "overflow_x": null,
            "grid_auto_flow": null,
            "grid_area": null,
            "grid_template_columns": null,
            "flex": null,
            "_model_name": "LayoutModel",
            "justify_items": null,
            "grid_row": null,
            "max_height": null,
            "align_content": null,
            "visibility": null,
            "align_self": null,
            "height": null,
            "min_height": null,
            "padding": null,
            "grid_auto_rows": null,
            "grid_gap": null,
            "max_width": null,
            "order": null,
            "_view_module_version": "1.2.0",
            "grid_template_areas": null,
            "object_position": null,
            "object_fit": null,
            "grid_auto_columns": null,
            "margin": null,
            "display": null,
            "left": null
          }
        },
        "3e7d946992124ce5a4aac06fea1dcf03": {
          "model_module": "@jupyter-widgets/controls",
          "model_name": "HBoxModel",
          "state": {
            "_view_name": "HBoxView",
            "_dom_classes": [],
            "_model_name": "HBoxModel",
            "_view_module": "@jupyter-widgets/controls",
            "_model_module_version": "1.5.0",
            "_view_count": null,
            "_view_module_version": "1.5.0",
            "box_style": "",
            "layout": "IPY_MODEL_dfcfc7b226144e02a28eda0013dc7aab",
            "_model_module": "@jupyter-widgets/controls",
            "children": [
              "IPY_MODEL_abf183f426a44de3bf61f16bcd62cfd7",
              "IPY_MODEL_936fd4ff6c0d4d359b352e41427c2768"
            ]
          }
        },
        "dfcfc7b226144e02a28eda0013dc7aab": {
          "model_module": "@jupyter-widgets/base",
          "model_name": "LayoutModel",
          "state": {
            "_view_name": "LayoutView",
            "grid_template_rows": null,
            "right": null,
            "justify_content": null,
            "_view_module": "@jupyter-widgets/base",
            "overflow": null,
            "_model_module_version": "1.2.0",
            "_view_count": null,
            "flex_flow": null,
            "width": null,
            "min_width": null,
            "border": null,
            "align_items": null,
            "bottom": null,
            "_model_module": "@jupyter-widgets/base",
            "top": null,
            "grid_column": null,
            "overflow_y": null,
            "overflow_x": null,
            "grid_auto_flow": null,
            "grid_area": null,
            "grid_template_columns": null,
            "flex": null,
            "_model_name": "LayoutModel",
            "justify_items": null,
            "grid_row": null,
            "max_height": null,
            "align_content": null,
            "visibility": null,
            "align_self": null,
            "height": null,
            "min_height": null,
            "padding": null,
            "grid_auto_rows": null,
            "grid_gap": null,
            "max_width": null,
            "order": null,
            "_view_module_version": "1.2.0",
            "grid_template_areas": null,
            "object_position": null,
            "object_fit": null,
            "grid_auto_columns": null,
            "margin": null,
            "display": null,
            "left": null
          }
        },
        "abf183f426a44de3bf61f16bcd62cfd7": {
          "model_module": "@jupyter-widgets/controls",
          "model_name": "FloatProgressModel",
          "state": {
            "_view_name": "ProgressView",
            "style": "IPY_MODEL_513b70b51d7b43f1aa31258d3ad83be5",
            "_dom_classes": [],
            "description": "",
            "_model_name": "FloatProgressModel",
            "bar_style": "info",
            "max": 1,
            "_view_module": "@jupyter-widgets/controls",
            "_model_module_version": "1.5.0",
            "value": 1,
            "_view_count": null,
            "_view_module_version": "1.5.0",
            "orientation": "horizontal",
            "min": 0,
            "description_tooltip": null,
            "_model_module": "@jupyter-widgets/controls",
            "layout": "IPY_MODEL_73083adc16b94e64933046cc3882af03"
          }
        },
        "936fd4ff6c0d4d359b352e41427c2768": {
          "model_module": "@jupyter-widgets/controls",
          "model_name": "HTMLModel",
          "state": {
            "_view_name": "HTMLView",
            "style": "IPY_MODEL_1137f7aa588247808319817a3bf526c5",
            "_dom_classes": [],
            "description": "",
            "_model_name": "HTMLModel",
            "placeholder": "​",
            "_view_module": "@jupyter-widgets/controls",
            "_model_module_version": "1.5.0",
            "value": " 1654784/? [00:18&lt;00:00, 283749.67it/s]",
            "_view_count": null,
            "_view_module_version": "1.5.0",
            "description_tooltip": null,
            "_model_module": "@jupyter-widgets/controls",
            "layout": "IPY_MODEL_f30b204f4bd14f6c8071fb474e280a74"
          }
        },
        "513b70b51d7b43f1aa31258d3ad83be5": {
          "model_module": "@jupyter-widgets/controls",
          "model_name": "ProgressStyleModel",
          "state": {
            "_view_name": "StyleView",
            "_model_name": "ProgressStyleModel",
            "description_width": "initial",
            "_view_module": "@jupyter-widgets/base",
            "_model_module_version": "1.5.0",
            "_view_count": null,
            "_view_module_version": "1.2.0",
            "bar_color": null,
            "_model_module": "@jupyter-widgets/controls"
          }
        },
        "73083adc16b94e64933046cc3882af03": {
          "model_module": "@jupyter-widgets/base",
          "model_name": "LayoutModel",
          "state": {
            "_view_name": "LayoutView",
            "grid_template_rows": null,
            "right": null,
            "justify_content": null,
            "_view_module": "@jupyter-widgets/base",
            "overflow": null,
            "_model_module_version": "1.2.0",
            "_view_count": null,
            "flex_flow": null,
            "width": null,
            "min_width": null,
            "border": null,
            "align_items": null,
            "bottom": null,
            "_model_module": "@jupyter-widgets/base",
            "top": null,
            "grid_column": null,
            "overflow_y": null,
            "overflow_x": null,
            "grid_auto_flow": null,
            "grid_area": null,
            "grid_template_columns": null,
            "flex": null,
            "_model_name": "LayoutModel",
            "justify_items": null,
            "grid_row": null,
            "max_height": null,
            "align_content": null,
            "visibility": null,
            "align_self": null,
            "height": null,
            "min_height": null,
            "padding": null,
            "grid_auto_rows": null,
            "grid_gap": null,
            "max_width": null,
            "order": null,
            "_view_module_version": "1.2.0",
            "grid_template_areas": null,
            "object_position": null,
            "object_fit": null,
            "grid_auto_columns": null,
            "margin": null,
            "display": null,
            "left": null
          }
        },
        "1137f7aa588247808319817a3bf526c5": {
          "model_module": "@jupyter-widgets/controls",
          "model_name": "DescriptionStyleModel",
          "state": {
            "_view_name": "StyleView",
            "_model_name": "DescriptionStyleModel",
            "description_width": "",
            "_view_module": "@jupyter-widgets/base",
            "_model_module_version": "1.5.0",
            "_view_count": null,
            "_view_module_version": "1.2.0",
            "_model_module": "@jupyter-widgets/controls"
          }
        },
        "f30b204f4bd14f6c8071fb474e280a74": {
          "model_module": "@jupyter-widgets/base",
          "model_name": "LayoutModel",
          "state": {
            "_view_name": "LayoutView",
            "grid_template_rows": null,
            "right": null,
            "justify_content": null,
            "_view_module": "@jupyter-widgets/base",
            "overflow": null,
            "_model_module_version": "1.2.0",
            "_view_count": null,
            "flex_flow": null,
            "width": null,
            "min_width": null,
            "border": null,
            "align_items": null,
            "bottom": null,
            "_model_module": "@jupyter-widgets/base",
            "top": null,
            "grid_column": null,
            "overflow_y": null,
            "overflow_x": null,
            "grid_auto_flow": null,
            "grid_area": null,
            "grid_template_columns": null,
            "flex": null,
            "_model_name": "LayoutModel",
            "justify_items": null,
            "grid_row": null,
            "max_height": null,
            "align_content": null,
            "visibility": null,
            "align_self": null,
            "height": null,
            "min_height": null,
            "padding": null,
            "grid_auto_rows": null,
            "grid_gap": null,
            "max_width": null,
            "order": null,
            "_view_module_version": "1.2.0",
            "grid_template_areas": null,
            "object_position": null,
            "object_fit": null,
            "grid_auto_columns": null,
            "margin": null,
            "display": null,
            "left": null
          }
        },
        "b857d83c924f44d8aaef46cddbba22ec": {
          "model_module": "@jupyter-widgets/controls",
          "model_name": "HBoxModel",
          "state": {
            "_view_name": "HBoxView",
            "_dom_classes": [],
            "_model_name": "HBoxModel",
            "_view_module": "@jupyter-widgets/controls",
            "_model_module_version": "1.5.0",
            "_view_count": null,
            "_view_module_version": "1.5.0",
            "box_style": "",
            "layout": "IPY_MODEL_faf3f015c0b24dcd8dfd5cccc4a9e7d3",
            "_model_module": "@jupyter-widgets/controls",
            "children": [
              "IPY_MODEL_7d9a5a4b1be94c1e92c6339b853d3fd0",
              "IPY_MODEL_40b31e2c892944c88f6f55809b8902ca"
            ]
          }
        },
        "faf3f015c0b24dcd8dfd5cccc4a9e7d3": {
          "model_module": "@jupyter-widgets/base",
          "model_name": "LayoutModel",
          "state": {
            "_view_name": "LayoutView",
            "grid_template_rows": null,
            "right": null,
            "justify_content": null,
            "_view_module": "@jupyter-widgets/base",
            "overflow": null,
            "_model_module_version": "1.2.0",
            "_view_count": null,
            "flex_flow": null,
            "width": null,
            "min_width": null,
            "border": null,
            "align_items": null,
            "bottom": null,
            "_model_module": "@jupyter-widgets/base",
            "top": null,
            "grid_column": null,
            "overflow_y": null,
            "overflow_x": null,
            "grid_auto_flow": null,
            "grid_area": null,
            "grid_template_columns": null,
            "flex": null,
            "_model_name": "LayoutModel",
            "justify_items": null,
            "grid_row": null,
            "max_height": null,
            "align_content": null,
            "visibility": null,
            "align_self": null,
            "height": null,
            "min_height": null,
            "padding": null,
            "grid_auto_rows": null,
            "grid_gap": null,
            "max_width": null,
            "order": null,
            "_view_module_version": "1.2.0",
            "grid_template_areas": null,
            "object_position": null,
            "object_fit": null,
            "grid_auto_columns": null,
            "margin": null,
            "display": null,
            "left": null
          }
        },
        "7d9a5a4b1be94c1e92c6339b853d3fd0": {
          "model_module": "@jupyter-widgets/controls",
          "model_name": "FloatProgressModel",
          "state": {
            "_view_name": "ProgressView",
            "style": "IPY_MODEL_7cb75e03504e4be18840eaf404da99ed",
            "_dom_classes": [],
            "description": "",
            "_model_name": "FloatProgressModel",
            "bar_style": "success",
            "max": 1,
            "_view_module": "@jupyter-widgets/controls",
            "_model_module_version": "1.5.0",
            "value": 1,
            "_view_count": null,
            "_view_module_version": "1.5.0",
            "orientation": "horizontal",
            "min": 0,
            "description_tooltip": null,
            "_model_module": "@jupyter-widgets/controls",
            "layout": "IPY_MODEL_0ee5e8e39ea341cfbf8fb56c100fce1b"
          }
        },
        "40b31e2c892944c88f6f55809b8902ca": {
          "model_module": "@jupyter-widgets/controls",
          "model_name": "HTMLModel",
          "state": {
            "_view_name": "HTMLView",
            "style": "IPY_MODEL_a2b3af632ce64722a17aa7d0e289a1cb",
            "_dom_classes": [],
            "description": "",
            "_model_name": "HTMLModel",
            "placeholder": "​",
            "_view_module": "@jupyter-widgets/controls",
            "_model_module_version": "1.5.0",
            "value": " 8192/? [00:00&lt;00:00, 16178.95it/s]",
            "_view_count": null,
            "_view_module_version": "1.5.0",
            "description_tooltip": null,
            "_model_module": "@jupyter-widgets/controls",
            "layout": "IPY_MODEL_78dbbf68f7174e11ac30bf1e619998e5"
          }
        },
        "7cb75e03504e4be18840eaf404da99ed": {
          "model_module": "@jupyter-widgets/controls",
          "model_name": "ProgressStyleModel",
          "state": {
            "_view_name": "StyleView",
            "_model_name": "ProgressStyleModel",
            "description_width": "initial",
            "_view_module": "@jupyter-widgets/base",
            "_model_module_version": "1.5.0",
            "_view_count": null,
            "_view_module_version": "1.2.0",
            "bar_color": null,
            "_model_module": "@jupyter-widgets/controls"
          }
        },
        "0ee5e8e39ea341cfbf8fb56c100fce1b": {
          "model_module": "@jupyter-widgets/base",
          "model_name": "LayoutModel",
          "state": {
            "_view_name": "LayoutView",
            "grid_template_rows": null,
            "right": null,
            "justify_content": null,
            "_view_module": "@jupyter-widgets/base",
            "overflow": null,
            "_model_module_version": "1.2.0",
            "_view_count": null,
            "flex_flow": null,
            "width": null,
            "min_width": null,
            "border": null,
            "align_items": null,
            "bottom": null,
            "_model_module": "@jupyter-widgets/base",
            "top": null,
            "grid_column": null,
            "overflow_y": null,
            "overflow_x": null,
            "grid_auto_flow": null,
            "grid_area": null,
            "grid_template_columns": null,
            "flex": null,
            "_model_name": "LayoutModel",
            "justify_items": null,
            "grid_row": null,
            "max_height": null,
            "align_content": null,
            "visibility": null,
            "align_self": null,
            "height": null,
            "min_height": null,
            "padding": null,
            "grid_auto_rows": null,
            "grid_gap": null,
            "max_width": null,
            "order": null,
            "_view_module_version": "1.2.0",
            "grid_template_areas": null,
            "object_position": null,
            "object_fit": null,
            "grid_auto_columns": null,
            "margin": null,
            "display": null,
            "left": null
          }
        },
        "a2b3af632ce64722a17aa7d0e289a1cb": {
          "model_module": "@jupyter-widgets/controls",
          "model_name": "DescriptionStyleModel",
          "state": {
            "_view_name": "StyleView",
            "_model_name": "DescriptionStyleModel",
            "description_width": "",
            "_view_module": "@jupyter-widgets/base",
            "_model_module_version": "1.5.0",
            "_view_count": null,
            "_view_module_version": "1.2.0",
            "_model_module": "@jupyter-widgets/controls"
          }
        },
        "78dbbf68f7174e11ac30bf1e619998e5": {
          "model_module": "@jupyter-widgets/base",
          "model_name": "LayoutModel",
          "state": {
            "_view_name": "LayoutView",
            "grid_template_rows": null,
            "right": null,
            "justify_content": null,
            "_view_module": "@jupyter-widgets/base",
            "overflow": null,
            "_model_module_version": "1.2.0",
            "_view_count": null,
            "flex_flow": null,
            "width": null,
            "min_width": null,
            "border": null,
            "align_items": null,
            "bottom": null,
            "_model_module": "@jupyter-widgets/base",
            "top": null,
            "grid_column": null,
            "overflow_y": null,
            "overflow_x": null,
            "grid_auto_flow": null,
            "grid_area": null,
            "grid_template_columns": null,
            "flex": null,
            "_model_name": "LayoutModel",
            "justify_items": null,
            "grid_row": null,
            "max_height": null,
            "align_content": null,
            "visibility": null,
            "align_self": null,
            "height": null,
            "min_height": null,
            "padding": null,
            "grid_auto_rows": null,
            "grid_gap": null,
            "max_width": null,
            "order": null,
            "_view_module_version": "1.2.0",
            "grid_template_areas": null,
            "object_position": null,
            "object_fit": null,
            "grid_auto_columns": null,
            "margin": null,
            "display": null,
            "left": null
          }
        }
      }
    }
  },
  "cells": [
    {
      "cell_type": "markdown",
      "metadata": {
        "id": "giaJix_KO6NA"
      },
      "source": [
        "# MNIST handwritten digits classifier by ANN"
      ]
    },
    {
      "cell_type": "markdown",
      "metadata": {
        "id": "pVCI1Wm0-yyY"
      },
      "source": [
        "**Importing libraries**"
      ]
    },
    {
      "cell_type": "code",
      "metadata": {
        "id": "Y1dwYHCfTw_z",
        "colab": {
          "base_uri": "https://localhost:8080/"
        },
        "outputId": "df37b04b-b838-486b-e9da-7a262592283f"
      },
      "source": [
        "!pip install mnist"
      ],
      "execution_count": 1,
      "outputs": [
        {
          "output_type": "stream",
          "text": [
            "Collecting mnist\n",
            "  Downloading https://files.pythonhosted.org/packages/c6/c4/5db3bfe009f8d71f1d532bbadbd0ec203764bba3a469e4703a889db8e5e0/mnist-0.2.2-py2.py3-none-any.whl\n",
            "Requirement already satisfied: numpy in /usr/local/lib/python3.6/dist-packages (from mnist) (1.18.5)\n",
            "Installing collected packages: mnist\n",
            "Successfully installed mnist-0.2.2\n"
          ],
          "name": "stdout"
        }
      ]
    },
    {
      "cell_type": "code",
      "metadata": {
        "id": "b8biw-rzPj0L",
        "colab": {
          "base_uri": "https://localhost:8080/",
          "height": 386,
          "referenced_widgets": [
            "fb630abd6e744e87ba7457943b761c8a",
            "e576e5111baa4fb3813d8c8c4a631c6c",
            "2af7647dcb7b4043a709d468ec83313d",
            "f96cebed30124163bfc5ca0a5feff37f",
            "2138e55841b842738b0d12af314275c9",
            "0e4df468a32f4465b6cefcc751ffe386",
            "118f799c997c4c8ba73deecc8588048b",
            "09c26a00fbcd46208ad857f8fd83344c",
            "3e10eeec22cd433c84294ccf1a44eec1",
            "7c2af646c06749e48a66325fcc49d235",
            "cd6a6cdf83d147ea9b135423f1496a8a",
            "431f1d19b97a44a1938ea1703ffc1178",
            "19f31adcb2c447acb22e54719965a46f",
            "f8fb14916bf348eaa947aeeadb1fbb91",
            "5d32252de15341f983a01a9e345ddad6",
            "26f5a06e2b0549d081c5fdf271e33056",
            "3e7d946992124ce5a4aac06fea1dcf03",
            "dfcfc7b226144e02a28eda0013dc7aab",
            "abf183f426a44de3bf61f16bcd62cfd7",
            "936fd4ff6c0d4d359b352e41427c2768",
            "513b70b51d7b43f1aa31258d3ad83be5",
            "73083adc16b94e64933046cc3882af03",
            "1137f7aa588247808319817a3bf526c5",
            "f30b204f4bd14f6c8071fb474e280a74",
            "b857d83c924f44d8aaef46cddbba22ec",
            "faf3f015c0b24dcd8dfd5cccc4a9e7d3",
            "7d9a5a4b1be94c1e92c6339b853d3fd0",
            "40b31e2c892944c88f6f55809b8902ca",
            "7cb75e03504e4be18840eaf404da99ed",
            "0ee5e8e39ea341cfbf8fb56c100fce1b",
            "a2b3af632ce64722a17aa7d0e289a1cb",
            "78dbbf68f7174e11ac30bf1e619998e5"
          ]
        },
        "outputId": "e6b83c5e-4a9e-4fc5-e1da-ae94ee22a8b8"
      },
      "source": [
        "import numpy as np\n",
        "import matplotlib.pyplot as plt\n",
        "import mnist \n",
        "import torch\n",
        "import torchvision\n",
        "import torchvision.datasets as ds\n",
        "mnist_ds = ds.MNIST('/root', train = True, download = True, transform = None)\n",
        "mnist_ds = ds.MNIST('/root', train = False, download = True, transform = None)"
      ],
      "execution_count": 2,
      "outputs": [
        {
          "output_type": "stream",
          "text": [
            "Downloading http://yann.lecun.com/exdb/mnist/train-images-idx3-ubyte.gz to /root/MNIST/raw/train-images-idx3-ubyte.gz\n"
          ],
          "name": "stdout"
        },
        {
          "output_type": "display_data",
          "data": {
            "application/vnd.jupyter.widget-view+json": {
              "model_id": "fb630abd6e744e87ba7457943b761c8a",
              "version_minor": 0,
              "version_major": 2
            },
            "text/plain": [
              "HBox(children=(FloatProgress(value=1.0, bar_style='info', max=1.0), HTML(value='')))"
            ]
          },
          "metadata": {
            "tags": []
          }
        },
        {
          "output_type": "stream",
          "text": [
            "Extracting /root/MNIST/raw/train-images-idx3-ubyte.gz to /root/MNIST/raw\n",
            "Downloading http://yann.lecun.com/exdb/mnist/train-labels-idx1-ubyte.gz to /root/MNIST/raw/train-labels-idx1-ubyte.gz\n"
          ],
          "name": "stdout"
        },
        {
          "output_type": "display_data",
          "data": {
            "application/vnd.jupyter.widget-view+json": {
              "model_id": "3e10eeec22cd433c84294ccf1a44eec1",
              "version_minor": 0,
              "version_major": 2
            },
            "text/plain": [
              "HBox(children=(FloatProgress(value=1.0, bar_style='info', max=1.0), HTML(value='')))"
            ]
          },
          "metadata": {
            "tags": []
          }
        },
        {
          "output_type": "stream",
          "text": [
            "Extracting /root/MNIST/raw/train-labels-idx1-ubyte.gz to /root/MNIST/raw\n",
            "Downloading http://yann.lecun.com/exdb/mnist/t10k-images-idx3-ubyte.gz to /root/MNIST/raw/t10k-images-idx3-ubyte.gz\n",
            "\n"
          ],
          "name": "stdout"
        },
        {
          "output_type": "display_data",
          "data": {
            "application/vnd.jupyter.widget-view+json": {
              "model_id": "3e7d946992124ce5a4aac06fea1dcf03",
              "version_minor": 0,
              "version_major": 2
            },
            "text/plain": [
              "HBox(children=(FloatProgress(value=1.0, bar_style='info', max=1.0), HTML(value='')))"
            ]
          },
          "metadata": {
            "tags": []
          }
        },
        {
          "output_type": "stream",
          "text": [
            "Extracting /root/MNIST/raw/t10k-images-idx3-ubyte.gz to /root/MNIST/raw\n",
            "Downloading http://yann.lecun.com/exdb/mnist/t10k-labels-idx1-ubyte.gz to /root/MNIST/raw/t10k-labels-idx1-ubyte.gz\n"
          ],
          "name": "stdout"
        },
        {
          "output_type": "display_data",
          "data": {
            "application/vnd.jupyter.widget-view+json": {
              "model_id": "b857d83c924f44d8aaef46cddbba22ec",
              "version_minor": 0,
              "version_major": 2
            },
            "text/plain": [
              "HBox(children=(FloatProgress(value=1.0, bar_style='info', max=1.0), HTML(value='')))"
            ]
          },
          "metadata": {
            "tags": []
          }
        },
        {
          "output_type": "stream",
          "text": [
            "Extracting /root/MNIST/raw/t10k-labels-idx1-ubyte.gz to /root/MNIST/raw\n",
            "Processing...\n",
            "Done!\n"
          ],
          "name": "stdout"
        },
        {
          "output_type": "stream",
          "text": [
            "/usr/local/lib/python3.6/dist-packages/torchvision/datasets/mnist.py:480: UserWarning: The given NumPy array is not writeable, and PyTorch does not support non-writeable tensors. This means you can write to the underlying (supposedly non-writeable) NumPy array using the tensor. You may want to copy the array to protect its data or make it writeable before converting it to a tensor. This type of warning will be suppressed for the rest of this program. (Triggered internally at  /pytorch/torch/csrc/utils/tensor_numpy.cpp:141.)\n",
            "  return torch.from_numpy(parsed.astype(m[2], copy=False)).view(*s)\n"
          ],
          "name": "stderr"
        }
      ]
    },
    {
      "cell_type": "markdown",
      "metadata": {
        "id": "f7K_1RYMUPPo"
      },
      "source": [
        "**Creating the ANN class**"
      ]
    },
    {
      "cell_type": "code",
      "metadata": {
        "id": "YyXi5uYaUJLR",
        "colab": {
          "base_uri": "https://localhost:8080/"
        },
        "outputId": "b9aa32ef-5157-429c-d7d0-0a0abac40bfc"
      },
      "source": [
        "class Handwritten_digits_classifier:\n",
        "\n",
        "  def __init__(self, hidden_layer_numbers):\n",
        "    self.train_set = {\n",
        "     'train_images': mnist.train_images(), \n",
        "     'train_labels': mnist.test_labels()\n",
        "    }\n",
        "    self.test_set = { \n",
        "     'test_images': mnist.test_images(),\n",
        "     'test_labels':mnist.test_labels()\n",
        "    }\n",
        "\n",
        "    file = open('sample_data/mnist_train_small.csv', 'r')\n",
        "    file_list = file.readlines()\n",
        "    file.close()\n",
        "    example = file_list[0]\n",
        "    label = example[0]\n",
        "    example = example.split(',')\n",
        "    example = np.asfarray(example)\n",
        "\n",
        "    self.inputNodes = 784 # 28 * 28 = 784 \n",
        "    self.outputNodes = 10 # we have 10 digits\n",
        "\n",
        "    self.hidden_layer_numbers = hidden_layer_numbers\n",
        "  \n",
        "    self.input_layer_output = []\n",
        "    example = example[1:]\n",
        "\n",
        "    #**** 784*1\n",
        "    example = example.reshape(784, 1)\n",
        "\n",
        "    self.example = example\n",
        "\n",
        "\n",
        "    #Flatten images \n",
        "    self.train_set['train_images'] = (self.train_set['train_images']/255) - 0.5\n",
        "    self.test_set['test_images'] = (self.test_set['test_images']/255) - 0.5\n",
        "    \n",
        "    #Reshape the image arrays to make suitable for feeding to the model \n",
        "    self.train_set['train_images'] = self.train_set['train_images'].reshape(-1, 784)\n",
        "    #self.test_set['test_images'] = self.test_set['test_images'].reshape(784, 1)\n",
        "    \n",
        "    #Take the number of hidden layers's nodes and funbctions\n",
        "    self.hidden_layers_nodes = []\n",
        "    self.hidden_layers_types = []\n",
        "    for i in range(self.hidden_layer_numbers):\n",
        "      self.hidden_layers_nodes.append(input('Please, enter the number of nodes in hidden layer' + str(i + 1) + ':'))\n",
        "      self.hidden_layers_types.append(input('Please, specify its activatition:'))\n",
        "    \n",
        "    #Convert the entered number of hidden layers' nodes to int from string\n",
        "    for i in range(0, self.hidden_layer_numbers):\n",
        "      self.hidden_layers_nodes[i] = int(self.hidden_layers_nodes[i])\n",
        "    \n",
        "    #Initialize the first and last weights\n",
        "    #****\n",
        "    self.IHweights = (np.random.rand(self.hidden_layers_nodes[0], self.inputNodes) - 0.5)\n",
        "    self.HOweights = (np.random.rand(self.outputNodes, self.hidden_layers_nodes[self.hidden_layer_numbers - 1]) - 0.5)\n",
        "\n",
        "    #Initialize the hidden layers weights\n",
        "    #*****\n",
        "    self.inner_weights = []\n",
        "    self.initialize_the_inner_weight(self.hidden_layer_numbers)\n",
        "    \n",
        "    #Declare the input and output of hidden layers variables \n",
        "    self.hidden_layers_inputs = []\n",
        "    self.hidden_layers_outputs = {}\n",
        "    \n",
        "    #Forward pass for the hidden layers \n",
        "    self.forwardPass()\n",
        "\n",
        "    #Final output by softmax function \n",
        "    #*****\n",
        "    self.finaloutput = self.softmax(np.dot(self.HOweights, self.hidden_layers_inputs[-1]))\n",
        "    print(self.finaloutput)\n",
        "\n",
        "  \n",
        "  def initialize_the_inner_weight(self, hidden_layer_numbers):\n",
        "    #*****\n",
        "    for i in range(0, self.hidden_layer_numbers-1):\n",
        "      if i == 0:\n",
        "        #*****\n",
        "        self.inner_weights.append((np.random.rand(self.hidden_layers_nodes[1], self.hidden_layers_nodes[0]) - 0.5))\n",
        "      else:\n",
        "        self.inner_weights.append((np.random.rand(self.hidden_layers_nodes[i+1], self.hidden_layers_nodes[i]) - 0.5))\n",
        "\n",
        "  def forwardPass(self):\n",
        "    for i in range(0, self.hidden_layer_numbers):\n",
        "      if i == 0:\n",
        "        #*****\n",
        "        if self.hidden_layers_types[i] == 'sigmoid':\n",
        "          self.hidden_layers_inputs.append(self.sigmoid(np.dot(self.IHweights, self.example)))\n",
        "        else:\n",
        "          self.hidden_layers_inputs.append(self.relu(np.dot(self.IHweights, self.example)))          \n",
        "      else:\n",
        "        # *****\n",
        "        if self.hidden_layers_types[i] == 'sigmoid':\n",
        "          print(len(self.inner_weights))\n",
        "          self.hidden_layers_inputs.append(self.sigmoid(np.dot(self.inner_weights[i-1], self.hidden_layers_inputs[-1])))\n",
        "        else:\n",
        "          self.hidden_layers_inputs.append(self.relu(np.dot(self.inner_weights[i-1], self.hidden_layers_inputs[-1])))\n",
        "      \n",
        "  def backwardPass(self):\n",
        "    \n",
        "\n",
        "  def sigmoid(self, z, derivative = False):\n",
        "    #****\n",
        "    z = np.clip( z, -500, 500 )\n",
        "    if derivative:\n",
        "      return (np.exp(-z)) / ((np.exp(-z) + 1) ** 2)\n",
        "    return 1.0 / (1.0 + np.exp(-z))\n",
        "\n",
        "  def relu(self, z, derivative = False):\n",
        "    if derivative:\n",
        "      if z == 0 or z < 0:\n",
        "        z = 0 \n",
        "      else:\n",
        "        z = 1\n",
        "        return z\n",
        "    return np.maximum(0, z)\n",
        "  \n",
        "  def softmax(sef, z):\n",
        "    exp = (np.exp(z - z.max()))\n",
        "    return exp / np.sum(exp, axis=0)\n",
        "\n",
        "  def show_test_images(self):\n",
        "    for i in range(0, 10):\n",
        "      image = self.test_set['test_images'][i]\n",
        "      image = np.array(image, dtype='float')\n",
        "      pixels = image.reshape((28, 28))\n",
        "      plt.imshow(pixels)\n",
        "      plt.show()\n",
        "\n",
        "  def ANN_Classifier(self):\n",
        "    pass\n"
      ],
      "execution_count": 3,
      "outputs": [
        {
          "output_type": "stream",
          "text": [
            "\n"
          ],
          "name": "stdout"
        }
      ]
    },
    {
      "cell_type": "code",
      "metadata": {
        "id": "5DLpVdFuyO23",
        "colab": {
          "base_uri": "https://localhost:8080/"
        },
        "outputId": "68c0e606-bab8-432d-b570-dc5d952f46cf"
      },
      "source": [
        "classifier = Handwritten_digits_classifier(3)"
      ],
      "execution_count": 4,
      "outputs": [
        {
          "output_type": "stream",
          "text": [
            "Please, enter the number of nodes in hidden layer1:2\n",
            "Please, specify its activatition:relu\n",
            "Please, enter the number of nodes in hidden layer2:25\n",
            "Please, specify its activatition:relu\n",
            "Please, enter the number of nodes in hidden layer3:52\n",
            "Please, specify its activatition:sigmoid\n",
            "2\n",
            "[[0.01765337]\n",
            " [0.05478109]\n",
            " [0.1907704 ]\n",
            " [0.09051536]\n",
            " [0.1816161 ]\n",
            " [0.13383079]\n",
            " [0.06489206]\n",
            " [0.1758999 ]\n",
            " [0.02589149]\n",
            " [0.06414944]]\n"
          ],
          "name": "stdout"
        }
      ]
    },
    {
      "cell_type": "code",
      "metadata": {
        "colab": {
          "base_uri": "https://localhost:8080/"
        },
        "id": "huF7UnvBa6KB",
        "outputId": "4f587b09-28f4-4272-bac0-07ebeedef104"
      },
      "source": [
        "len(classifier.inner_weights)"
      ],
      "execution_count": 5,
      "outputs": [
        {
          "output_type": "execute_result",
          "data": {
            "text/plain": [
              "2"
            ]
          },
          "metadata": {
            "tags": []
          },
          "execution_count": 5
        }
      ]
    }
  ]
}