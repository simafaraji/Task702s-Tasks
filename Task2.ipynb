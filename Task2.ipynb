{
  "nbformat": 4,
  "nbformat_minor": 0,
  "metadata": {
    "colab": {
      "name": "Untitled2.ipynb",
      "provenance": []
    },
    "kernelspec": {
      "name": "python3",
      "display_name": "Python 3"
    }
  },
  "cells": [
    {
      "cell_type": "code",
      "metadata": {
        "colab": {
          "base_uri": "https://localhost:8080/"
        },
        "id": "RFl_oJytf_hG",
        "outputId": "2e1b9e6d-0098-4144-f715-80af5313fa28"
      },
      "source": [
        "pip install mnist"
      ],
      "execution_count": 4,
      "outputs": [
        {
          "output_type": "stream",
          "text": [
            "Collecting mnist\n",
            "  Downloading https://files.pythonhosted.org/packages/c6/c4/5db3bfe009f8d71f1d532bbadbd0ec203764bba3a469e4703a889db8e5e0/mnist-0.2.2-py2.py3-none-any.whl\n",
            "Requirement already satisfied: numpy in /usr/local/lib/python3.6/dist-packages (from mnist) (1.19.4)\n",
            "Installing collected packages: mnist\n",
            "Successfully installed mnist-0.2.2\n"
          ],
          "name": "stdout"
        }
      ]
    },
    {
      "cell_type": "code",
      "metadata": {
        "id": "wFv_-IeLf0Uq"
      },
      "source": [
        "import mnist\n",
        "import numpy as np"
      ],
      "execution_count": 5,
      "outputs": []
    },
    {
      "cell_type": "code",
      "metadata": {
        "id": "uoNzmGSyfPC9"
      },
      "source": [
        "class Handwritten_digits_classifier:\n",
        "    def __init__(self, hidden_layers=[128, 64], hidden_layers_types=['sigmoid', 'relu'], epochs=10,\n",
        "                 learning_rate=0.01):\n",
        "        self.hidden_layers = hidden_layers\n",
        "        self.hidden_layers_types = hidden_layers_types\n",
        "        self.epochs = epochs\n",
        "        self.learning_rate = learning_rate\n",
        "        self.weights = self.initialization()\n",
        "\n",
        "        if len(hidden_layers) != len(hidden_layers_types):\n",
        "            print('Hidden layers units are not equal with Hidden layers activations')\n",
        "            return\n",
        "\n",
        "        x_train = mnist.train_images()\n",
        "        x_train = (x_train / 255).astype('float32').reshape(-1, 784)\n",
        "\n",
        "        x_val = mnist.test_images()\n",
        "        x_val = (x_val / 255).astype('float32').reshape(-1, 784)\n",
        "\n",
        "        y_train = self.to_categorical(mnist.train_labels())\n",
        "        y_val = self.to_categorical(mnist.test_labels())\n",
        "\n",
        "        self.train(x_train, y_train, x_val, y_val)\n",
        "\n",
        "    def relu(self, x, derivative=False):\n",
        "        if derivative:\n",
        "            y = np.copy(x)\n",
        "            y[y >= 0] = 1\n",
        "            y[y < 0] = 0\n",
        "            return y\n",
        "        return np.maximum(0, x)\n",
        "\n",
        "    def sigmoid(self, x, derivative=False):\n",
        "        if derivative:\n",
        "            return (np.exp(-x)) / ((np.exp(-x) + 1) ** 2)\n",
        "        return 1 / (1 + np.exp(-x))\n",
        "\n",
        "    def softmax(self, x, derivative=False):\n",
        "        exps = np.exp(x - x.max())\n",
        "        if derivative:\n",
        "            return exps / np.sum(exps, axis=0) * (1 - exps / np.sum(exps, axis=0))\n",
        "        return exps / np.sum(exps, axis=0)\n",
        "\n",
        "    def to_categorical(self, y, num_classes=None, dtype='float32'):\n",
        "        y = np.array(y, dtype='int')\n",
        "        input_shape = y.shape\n",
        "        if input_shape and input_shape[-1] == 1 and len(input_shape) > 1:\n",
        "            input_shape = tuple(input_shape[:-1])\n",
        "        y = y.ravel()\n",
        "        if not num_classes:\n",
        "            num_classes = np.max(y) + 1\n",
        "        n = y.shape[0]\n",
        "        categorical = np.zeros((n, num_classes), dtype=dtype)\n",
        "        categorical[np.arange(n), y] = 1\n",
        "        output_shape = input_shape + (num_classes,)\n",
        "        categorical = np.reshape(categorical, output_shape)\n",
        "        return categorical\n",
        "\n",
        "    def initialization(self):\n",
        "        layers_unit = [784]\n",
        "        layers_unit.extend(self.hidden_layers)\n",
        "        layers_unit.append(10)\n",
        "        weights = {}\n",
        "        for i in range(1, len(layers_unit)):\n",
        "            weights[f'W{i}'] = np.random.randn(layers_unit[i], layers_unit[i - 1]) * np.sqrt(1. / layers_unit[i])\n",
        "        return weights\n",
        "\n",
        "    def forward_pass(self, x_train):\n",
        "        weights = self.weights\n",
        "        # input layer activations becomes sample\n",
        "        weights['A0'] = x_train\n",
        "        for i in range(1, len(self.hidden_layers) + 2):\n",
        "\n",
        "            if i == len(self.hidden_layers) + 1:  # output layer\n",
        "                weights[f'Z{i}'] = np.dot(weights[f\"W{i}\"], weights[f'A{i - 1}'])\n",
        "                weights[f'A{i}'] = self.softmax(weights[f'Z{i}'])\n",
        "            else:\n",
        "                weights[f'Z{i}'] = np.dot(weights[f\"W{i}\"], weights[f'A{i - 1}'])\n",
        "                if self.hidden_layers_types[i - 1] == 'sigmoid':\n",
        "                    weights[f'A{i}'] = self.sigmoid(weights[f'Z{i}'])\n",
        "                else:\n",
        "                    weights[f'A{i}'] = self.relu(weights[f'Z{i}'])\n",
        "\n",
        "        return weights[f'A{len(self.hidden_layers) + 1}']\n",
        "\n",
        "    def backward_pass(self, y_train, output):\n",
        "        params = self.weights\n",
        "        change_w = {}\n",
        "        error = None\n",
        "        for i in reversed(range(1, len(self.hidden_layers) + 2)):\n",
        "            if i == len(self.hidden_layers) + 1:\n",
        "                # Calculate last W update\n",
        "                error = (output - y_train) / output.shape[0] * self.softmax(params[f'Z{i}'], derivative=True)\n",
        "                change_w[f'W{i}'] = np.outer(error, params[f'A{i - 1}'])\n",
        "\n",
        "            else:\n",
        "                if list(reversed(self.hidden_layers_types))[i - 1] == 'sigmoid':\n",
        "                    error = np.dot(params[f'W{i + 1}'].T, error) * self.sigmoid(params[f'Z{i}'], derivative=True)\n",
        "                else:\n",
        "                    error = np.dot(params[f'W{i + 1}'].T, error) * self.relu(params[f'Z{i}'], derivative=True)\n",
        "                change_w[f'W{i}'] = np.outer(error, params[f'A{i - 1}'])\n",
        "\n",
        "        for key, value in change_w.items():\n",
        "            self.weights[key] -= self.learning_rate * value\n",
        "\n",
        "    def compute_accuracy(self, x_val, y_val):\n",
        "        predictions = []\n",
        "\n",
        "        for x, y in zip(x_val, y_val):\n",
        "            output = self.forward_pass(x)\n",
        "            pred = np.argmax(output)\n",
        "            predictions.append(pred == np.argmax(y))\n",
        "\n",
        "        return np.mean(predictions)\n",
        "\n",
        "    def train(self, x_train, y_train, x_val, y_val):\n",
        "        for iteration in range(self.epochs):\n",
        "            for x, y in zip(x_train, y_train):\n",
        "                output = self.forward_pass(x)\n",
        "                self.backward_pass(y, output)\n",
        "\n",
        "            accuracy = self.compute_accuracy(x_val, y_val)\n",
        "            print(f'Epoch: {iteration + 1}, Accuracy: {accuracy * 100:.2f}%')\n"
      ],
      "execution_count": 6,
      "outputs": []
    },
    {
      "cell_type": "code",
      "metadata": {
        "colab": {
          "base_uri": "https://localhost:8080/"
        },
        "id": "oxg0pKO6fevK",
        "outputId": "0b72ff03-8112-4b19-b15d-08943f922adb"
      },
      "source": [
        "classifier = Handwritten_digits_classifier(hidden_layers=[256, 128, 64], hidden_layers_types=['relu', 'sigmoid', 'relu'])"
      ],
      "execution_count": 7,
      "outputs": [
        {
          "output_type": "stream",
          "text": [
            "Epoch: 1, Accuracy: 41.52%\n",
            "Epoch: 2, Accuracy: 69.44%\n",
            "Epoch: 3, Accuracy: 83.94%\n",
            "Epoch: 4, Accuracy: 86.74%\n",
            "Epoch: 5, Accuracy: 87.81%\n",
            "Epoch: 6, Accuracy: 89.14%\n",
            "Epoch: 7, Accuracy: 90.71%\n",
            "Epoch: 8, Accuracy: 91.12%\n",
            "Epoch: 9, Accuracy: 90.70%\n",
            "Epoch: 10, Accuracy: 91.96%\n"
          ],
          "name": "stdout"
        }
      ]
    }
  ]
}